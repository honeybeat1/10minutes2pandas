{
  "nbformat": 4,
  "nbformat_minor": 0,
  "metadata": {
    "colab": {
      "name": "n421a-text-preprocessing-for-nlp.ipynb",
      "provenance": [],
      "collapsed_sections": [],
      "include_colab_link": true
    },
    "kernelspec": {
      "display_name": "Python 3",
      "language": "python",
      "name": "python3"
    },
    "language_info": {
      "codemirror_mode": {
        "name": "ipython",
        "version": 3
      },
      "file_extension": ".py",
      "mimetype": "text/x-python",
      "name": "python",
      "nbconvert_exporter": "python",
      "pygments_lexer": "ipython3",
      "version": "3.8.2"
    },
    "toc-autonumbering": false
  },
  "cells": [
    {
      "cell_type": "markdown",
      "metadata": {
        "id": "view-in-github",
        "colab_type": "text"
      },
      "source": [
        "<a href=\"https://colab.research.google.com/github/honeybeat1/10minutes2pandas/blob/master/n421a_text_preprocessing_for_nlp.ipynb\" target=\"_parent\"><img src=\"https://colab.research.google.com/assets/colab-badge.svg\" alt=\"Open In Colab\"/></a>"
      ]
    },
    {
      "cell_type": "markdown",
      "metadata": {
        "id": "za56W96DnxVC"
      },
      "source": [
        "<img align=\"right\" src=\"https://ds-cs-images.s3.ap-northeast-2.amazonaws.com/Codestates_Fulllogo_Color.png\" width=100>\n",
        "\n",
        "## *DATA SCIENCE / SECTION 4 / SPRINT 2 / NOTE 1*\n",
        "\n",
        "# 📝 Assignment\n",
        "\n",
        "---\n",
        "\n",
        "\n",
        "# Text Preprocessing for NLP"
      ]
    },
    {
      "cell_type": "markdown",
      "metadata": {
        "id": "68CzOVminxVR"
      },
      "source": [
        "Women's E-Commerce Clothing Reviews\n",
        "https://www.kaggle.com/nicapotato/womens-ecommerce-clothing-reviews\n",
        "\n",
        "이번 과제의 목표는: 캐글 옷 리뷰 데이터의 텍스트 칼럼(`Review Text`)에서 토큰(단어)를 추출하고 추천(`Recommended IND`)을 할지(1) 안 할지(0)에 따른 토큰의 빈도를 살펴 보는 것 입니다.\n",
        "\n",
        "토큰을 분리하기 위해 사용 가능한 정제기술을 모두 사용하고 특히\n",
        "- Lemmatization\n",
        "- 확장된 불용어 처리\n",
        "기술을 잘 활용해 보세요\n",
        "\n",
        "토큰이 만들어지면 꼭 **올바른 토큰화**를 잘 만족하는지 확인 합니다. 그리고 결과를 분석하여 어떤 특성이 추천에 이르게 하는지 그래프로 설명하세요. 마크다운 셀을 최대한 활용하여 결과를 분석해 보시기 바랍니다."
      ]
    },
    {
      "cell_type": "markdown",
      "metadata": {
        "id": "i_IiC3InnxVS"
      },
      "source": [
        "### 1) Spacy 코스를 수강하세요\n",
        "- chapter1의 1~5 강좌 수강 (https://course.spacy.io/en/)\n",
        "  - 챕터 1, 2, 3, 4, 5를 수강하는 것은 아닙니다!\n",
        "- 문항 1) chapter1-5의 강의를 들으시고, 해당 제목을 입력하시오."
      ]
    },
    {
      "cell_type": "markdown",
      "metadata": {
        "id": "L3-XgqkYnxVS"
      },
      "source": [
        "- 답 : Statistical models\n",
        "- https://velog.io/@honeybeat1/NLP-spaCy-course-note 정리"
      ]
    },
    {
      "cell_type": "code",
      "metadata": {
        "colab": {
          "base_uri": "https://localhost:8080/",
          "height": 323
        },
        "id": "dEF3AlGVpBRj",
        "outputId": "c74f069e-d1b4-4dd3-9a26-362db0d942c6"
      },
      "source": [
        "import pandas as pd\n",
        "\n",
        "df = pd.read_csv('Womens Clothing E-Commerce Reviews.csv')\n",
        "df.head()"
      ],
      "execution_count": null,
      "outputs": [
        {
          "output_type": "execute_result",
          "data": {
            "text/html": [
              "<div>\n",
              "<style scoped>\n",
              "    .dataframe tbody tr th:only-of-type {\n",
              "        vertical-align: middle;\n",
              "    }\n",
              "\n",
              "    .dataframe tbody tr th {\n",
              "        vertical-align: top;\n",
              "    }\n",
              "\n",
              "    .dataframe thead th {\n",
              "        text-align: right;\n",
              "    }\n",
              "</style>\n",
              "<table border=\"1\" class=\"dataframe\">\n",
              "  <thead>\n",
              "    <tr style=\"text-align: right;\">\n",
              "      <th></th>\n",
              "      <th>Unnamed: 0</th>\n",
              "      <th>Clothing ID</th>\n",
              "      <th>Age</th>\n",
              "      <th>Title</th>\n",
              "      <th>Review Text</th>\n",
              "      <th>Rating</th>\n",
              "      <th>Recommended IND</th>\n",
              "      <th>Positive Feedback Count</th>\n",
              "      <th>Division Name</th>\n",
              "      <th>Department Name</th>\n",
              "      <th>Class Name</th>\n",
              "    </tr>\n",
              "  </thead>\n",
              "  <tbody>\n",
              "    <tr>\n",
              "      <th>0</th>\n",
              "      <td>0</td>\n",
              "      <td>767</td>\n",
              "      <td>33.0</td>\n",
              "      <td>NaN</td>\n",
              "      <td>Absolutely wonderful - silky and sexy and comf...</td>\n",
              "      <td>4.0</td>\n",
              "      <td>1.0</td>\n",
              "      <td>0.0</td>\n",
              "      <td>Initmates</td>\n",
              "      <td>Intimate</td>\n",
              "      <td>Intimates</td>\n",
              "    </tr>\n",
              "    <tr>\n",
              "      <th>1</th>\n",
              "      <td>1</td>\n",
              "      <td>1080</td>\n",
              "      <td>34.0</td>\n",
              "      <td>NaN</td>\n",
              "      <td>Love this dress!  it's sooo pretty.  i happene...</td>\n",
              "      <td>5.0</td>\n",
              "      <td>1.0</td>\n",
              "      <td>4.0</td>\n",
              "      <td>General</td>\n",
              "      <td>Dresses</td>\n",
              "      <td>Dresses</td>\n",
              "    </tr>\n",
              "    <tr>\n",
              "      <th>2</th>\n",
              "      <td>2</td>\n",
              "      <td>1077</td>\n",
              "      <td>60.0</td>\n",
              "      <td>Some major design flaws</td>\n",
              "      <td>I had such high hopes for this dress and reall...</td>\n",
              "      <td>3.0</td>\n",
              "      <td>0.0</td>\n",
              "      <td>0.0</td>\n",
              "      <td>General</td>\n",
              "      <td>Dresses</td>\n",
              "      <td>Dresses</td>\n",
              "    </tr>\n",
              "    <tr>\n",
              "      <th>3</th>\n",
              "      <td>3</td>\n",
              "      <td>1049</td>\n",
              "      <td>50.0</td>\n",
              "      <td>My favorite buy!</td>\n",
              "      <td>I love, love, love this jumpsuit. it's fun, fl...</td>\n",
              "      <td>5.0</td>\n",
              "      <td>1.0</td>\n",
              "      <td>0.0</td>\n",
              "      <td>General Petite</td>\n",
              "      <td>Bottoms</td>\n",
              "      <td>Pants</td>\n",
              "    </tr>\n",
              "    <tr>\n",
              "      <th>4</th>\n",
              "      <td>4</td>\n",
              "      <td>847</td>\n",
              "      <td>47.0</td>\n",
              "      <td>Flattering shirt</td>\n",
              "      <td>This shirt is very flattering to all due to th...</td>\n",
              "      <td>5.0</td>\n",
              "      <td>1.0</td>\n",
              "      <td>6.0</td>\n",
              "      <td>General</td>\n",
              "      <td>Tops</td>\n",
              "      <td>Blouses</td>\n",
              "    </tr>\n",
              "  </tbody>\n",
              "</table>\n",
              "</div>"
            ],
            "text/plain": [
              "   Unnamed: 0  Clothing ID   Age  ...   Division Name Department Name  Class Name\n",
              "0           0          767  33.0  ...       Initmates        Intimate   Intimates\n",
              "1           1         1080  34.0  ...         General         Dresses     Dresses\n",
              "2           2         1077  60.0  ...         General         Dresses     Dresses\n",
              "3           3         1049  50.0  ...  General Petite         Bottoms       Pants\n",
              "4           4          847  47.0  ...         General            Tops     Blouses\n",
              "\n",
              "[5 rows x 11 columns]"
            ]
          },
          "metadata": {
            "tags": []
          },
          "execution_count": 4
        }
      ]
    },
    {
      "cell_type": "code",
      "metadata": {
        "colab": {
          "base_uri": "https://localhost:8080/"
        },
        "id": "YySvkYBDpBRk",
        "outputId": "b428d760-446a-48d4-e48f-ab3d73a36b43"
      },
      "source": [
        "# 목표 : 데이터의 텍스트 칼럼(Review Text)에서 토큰(단어)를 추출하고 \n",
        "# 추천(Recommended IND)을 할지(1) 안 할지(0)에 따른 토큰의 빈도를 살펴 보는 것\n",
        "# 필요한 데이터\n",
        "df_rev = df[['Review Text', 'Recommended IND']]\n",
        "df_rev['Review Text'] = df_rev['Review Text'].astype(str)"
      ],
      "execution_count": null,
      "outputs": [
        {
          "output_type": "stream",
          "text": [
            "/usr/local/lib/python3.7/dist-packages/ipykernel_launcher.py:5: SettingWithCopyWarning: \n",
            "A value is trying to be set on a copy of a slice from a DataFrame.\n",
            "Try using .loc[row_indexer,col_indexer] = value instead\n",
            "\n",
            "See the caveats in the documentation: https://pandas.pydata.org/pandas-docs/stable/user_guide/indexing.html#returning-a-view-versus-a-copy\n",
            "  \"\"\"\n"
          ],
          "name": "stderr"
        }
      ]
    },
    {
      "cell_type": "code",
      "metadata": {
        "id": "xLfUOtTkpBRk"
      },
      "source": [
        "df_rev"
      ],
      "execution_count": null,
      "outputs": []
    },
    {
      "cell_type": "markdown",
      "metadata": {
        "id": "JepbPJw5nxVT"
      },
      "source": [
        "### 2) 토큰을 정제합니다. \n",
        "- 문자를 소문자로 통일\n",
        "- 분석에 관련 없는 정보 제거\n",
        "\n",
        "- 문항 2-1) 소문자로 변경하는 함수를 입력하시오. \n",
        "- 문항 2-2) re 라이브러리에서 알파벳 소문자, 숫자만 받을 수 있는 코드를 작성하시오. "
      ]
    },
    {
      "cell_type": "code",
      "metadata": {
        "id": "_VBRkXS6nxVT"
      },
      "source": [
        "# 문자를 소문자로 통일\n",
        "df_rev['Review Text'] = df_rev['Review Text'].apply(lambda x: x.lower())"
      ],
      "execution_count": null,
      "outputs": []
    },
    {
      "cell_type": "code",
      "metadata": {
        "id": "0wfL3X4apBRl"
      },
      "source": [
        "df_rev['Review Text']"
      ],
      "execution_count": null,
      "outputs": []
    },
    {
      "cell_type": "code",
      "metadata": {
        "colab": {
          "base_uri": "https://localhost:8080/"
        },
        "id": "8JWN4M1SpBRl",
        "outputId": "37f5e757-03d9-4bea-8cff-c5227bfa1059"
      },
      "source": [
        "# 분석에 관련없는 정보 제거\n",
        "# 알파벳 소문자, 숫자만 받을 수 있는 코드\n",
        "\n",
        "import re\n",
        "\n",
        "regex = r\"[^a-z0-9 ]\" # 규칙 #a-z, 0-9, 빈칸 에 포함되지 않는 모든 것 #빈칸 꼭 남기기\n",
        "subst = \"\" # 치환할 문자 (없애겠다)\n",
        "\n",
        "result = re.sub(regex, subst, df_rev['Review Text'][0]).split()\n",
        "result"
      ],
      "execution_count": null,
      "outputs": [
        {
          "output_type": "execute_result",
          "data": {
            "text/plain": [
              "['bsolutely', 'wonderful', 'silky', 'and', 'sexy', 'and', 'comfortable']"
            ]
          },
          "metadata": {
            "tags": []
          },
          "execution_count": 6
        }
      ]
    },
    {
      "cell_type": "code",
      "metadata": {
        "id": "oo6aSBLhpBRl"
      },
      "source": [
        "# 토큰화 함수 만들기\n",
        "\n",
        "def tokenize(text):\n",
        "    result = text.lower()\n",
        "    result = re.sub(regex, subst, result).split()\n",
        "    return result"
      ],
      "execution_count": null,
      "outputs": []
    },
    {
      "cell_type": "code",
      "metadata": {
        "id": "vRh7FNUfpBRm"
      },
      "source": [
        "pd.options.mode.chained_assignment = None  # default='warn'\n",
        "df_rev['Review Text'] = df_rev['Review Text'].apply(tokenize)"
      ],
      "execution_count": null,
      "outputs": []
    },
    {
      "cell_type": "markdown",
      "metadata": {
        "id": "RdgRqlzsnxVT"
      },
      "source": [
        "### 3) 정제한 토큰을 시각화 합니다.\n",
        "- Top 10 토큰을 프린트 합니다.\n",
        "- 토큰의 수, 빈도 순위, 존재 문서 수, 비율 등 정보를 계산합니다.\n",
        "- 토큰 순위에 따른 퍼센트 누적 분포 그래프를 시각화 합니다.\n",
        "- 추천(recommended_ind)/비추천에 따라 비교되는 토큰을 시각화 합니다.\n",
        "- 문항 3) 추천 토큰 순위 10개 단어를 입력하시오."
      ]
    },
    {
      "cell_type": "code",
      "metadata": {
        "id": "Ii533sC-nxVT"
      },
      "source": [
        "from collections import Counter # 리스트 형태의 데이터를 입력받아서 update를 통해 sum하기\n",
        "\n",
        "word_counts = Counter()\n",
        "\n",
        "word_counts.update(df_rev['Review Text'][0])"
      ],
      "execution_count": null,
      "outputs": []
    },
    {
      "cell_type": "code",
      "metadata": {
        "id": "n2_GE_FXpBRm",
        "outputId": "dfb39dab-b344-4e37-b646-cb6995e05f77"
      },
      "source": [
        "word_counts"
      ],
      "execution_count": null,
      "outputs": [
        {
          "output_type": "execute_result",
          "data": {
            "text/plain": [
              "Counter({'absolutely': 1,\n",
              "         'wonderful': 1,\n",
              "         'silky': 1,\n",
              "         'and': 2,\n",
              "         'sexy': 1,\n",
              "         'comfortable': 1})"
            ]
          },
          "metadata": {
            "tags": []
          },
          "execution_count": 10
        }
      ]
    },
    {
      "cell_type": "code",
      "metadata": {
        "colab": {
          "base_uri": "https://localhost:8080/"
        },
        "id": "kDmMLjOipBRm",
        "outputId": "0f439158-f053-4210-8913-67358874a52a"
      },
      "source": [
        "# top 10 토큰\n",
        "\n",
        "df_rev['Review Text'].apply(lambda x:word_counts.update(x))\n",
        "word_counts.most_common(10)"
      ],
      "execution_count": null,
      "outputs": [
        {
          "output_type": "execute_result",
          "data": {
            "text/plain": [
              "[('the', 65521),\n",
              " ('i', 50503),\n",
              " ('and', 42314),\n",
              " ('a', 37130),\n",
              " ('it', 36601),\n",
              " ('is', 26507),\n",
              " ('this', 22179),\n",
              " ('to', 21175),\n",
              " ('in', 17791),\n",
              " ('but', 14145)]"
            ]
          },
          "metadata": {
            "tags": []
          },
          "execution_count": 10
        }
      ]
    },
    {
      "cell_type": "code",
      "metadata": {
        "colab": {
          "base_uri": "https://localhost:8080/"
        },
        "id": "6p537tUOpBRn",
        "outputId": "cfee18cd-930f-4903-c59d-aeca8a69532d"
      },
      "source": [
        "# 토큰의 수\n",
        "print(\"토큰의 수:\", len(word_counts.most_common()))\n",
        "\n",
        "# 토큰 순위에 따른 퍼센트 누적 분포\n",
        "token_df = pd.DataFrame(columns=['word', 'count'])\n",
        "\n",
        "word, count = [], []\n",
        "\n",
        "for i in word_counts.most_common():\n",
        "    word.append(i[0])\n",
        "    count.append(i[1])\n",
        "    \n",
        "token_df['word'] = word\n",
        "token_df['count'] = count\n",
        "\n",
        "total = token_df['count'].sum()\n",
        "token_df['percentage'] = token_df['count'].apply(lambda x:x/total)\n",
        "token_df['cumsum'] = token_df['percentage'].cumsum()\n",
        "token_df['rank'] = token_df.index + 1"
      ],
      "execution_count": null,
      "outputs": [
        {
          "output_type": "stream",
          "text": [
            "토큰의 수: 19392\n"
          ],
          "name": "stdout"
        }
      ]
    },
    {
      "cell_type": "code",
      "metadata": {
        "id": "SRewv4CEpBRn",
        "outputId": "787fc14c-0c6d-4326-876e-da62e9b2a972"
      },
      "source": [
        "token_df"
      ],
      "execution_count": null,
      "outputs": [
        {
          "output_type": "execute_result",
          "data": {
            "text/html": [
              "<div>\n",
              "<style scoped>\n",
              "    .dataframe tbody tr th:only-of-type {\n",
              "        vertical-align: middle;\n",
              "    }\n",
              "\n",
              "    .dataframe tbody tr th {\n",
              "        vertical-align: top;\n",
              "    }\n",
              "\n",
              "    .dataframe thead th {\n",
              "        text-align: right;\n",
              "    }\n",
              "</style>\n",
              "<table border=\"1\" class=\"dataframe\">\n",
              "  <thead>\n",
              "    <tr style=\"text-align: right;\">\n",
              "      <th></th>\n",
              "      <th>word</th>\n",
              "      <th>count</th>\n",
              "      <th>percentage</th>\n",
              "      <th>cumsum</th>\n",
              "      <th>rank</th>\n",
              "    </tr>\n",
              "  </thead>\n",
              "  <tbody>\n",
              "    <tr>\n",
              "      <th>0</th>\n",
              "      <td>the</td>\n",
              "      <td>75568</td>\n",
              "      <td>5.573005e-02</td>\n",
              "      <td>0.055730</td>\n",
              "      <td>1</td>\n",
              "    </tr>\n",
              "    <tr>\n",
              "      <th>1</th>\n",
              "      <td>i</td>\n",
              "      <td>58428</td>\n",
              "      <td>4.308961e-02</td>\n",
              "      <td>0.098820</td>\n",
              "      <td>2</td>\n",
              "    </tr>\n",
              "    <tr>\n",
              "      <th>2</th>\n",
              "      <td>and</td>\n",
              "      <td>48807</td>\n",
              "      <td>3.599429e-02</td>\n",
              "      <td>0.134814</td>\n",
              "      <td>3</td>\n",
              "    </tr>\n",
              "    <tr>\n",
              "      <th>3</th>\n",
              "      <td>a</td>\n",
              "      <td>42776</td>\n",
              "      <td>3.154654e-02</td>\n",
              "      <td>0.166360</td>\n",
              "      <td>4</td>\n",
              "    </tr>\n",
              "    <tr>\n",
              "      <th>4</th>\n",
              "      <td>it</td>\n",
              "      <td>42325</td>\n",
              "      <td>3.121393e-02</td>\n",
              "      <td>0.197574</td>\n",
              "      <td>5</td>\n",
              "    </tr>\n",
              "    <tr>\n",
              "      <th>...</th>\n",
              "      <td>...</td>\n",
              "      <td>...</td>\n",
              "      <td>...</td>\n",
              "      <td>...</td>\n",
              "      <td>...</td>\n",
              "    </tr>\n",
              "    <tr>\n",
              "      <th>21073</th>\n",
              "      <td>bottomi</td>\n",
              "      <td>1</td>\n",
              "      <td>7.374822e-07</td>\n",
              "      <td>0.999997</td>\n",
              "      <td>21074</td>\n",
              "    </tr>\n",
              "    <tr>\n",
              "      <th>21074</th>\n",
              "      <td>small27p</td>\n",
              "      <td>1</td>\n",
              "      <td>7.374822e-07</td>\n",
              "      <td>0.999998</td>\n",
              "      <td>21075</td>\n",
              "    </tr>\n",
              "    <tr>\n",
              "      <th>21075</th>\n",
              "      <td>blaring</td>\n",
              "      <td>1</td>\n",
              "      <td>7.374822e-07</td>\n",
              "      <td>0.999999</td>\n",
              "      <td>21076</td>\n",
              "    </tr>\n",
              "    <tr>\n",
              "      <th>21076</th>\n",
              "      <td>sleevesnot</td>\n",
              "      <td>1</td>\n",
              "      <td>7.374822e-07</td>\n",
              "      <td>0.999999</td>\n",
              "      <td>21077</td>\n",
              "    </tr>\n",
              "    <tr>\n",
              "      <th>21077</th>\n",
              "      <td>platinum</td>\n",
              "      <td>1</td>\n",
              "      <td>7.374822e-07</td>\n",
              "      <td>1.000000</td>\n",
              "      <td>21078</td>\n",
              "    </tr>\n",
              "  </tbody>\n",
              "</table>\n",
              "<p>21078 rows × 5 columns</p>\n",
              "</div>"
            ],
            "text/plain": [
              "             word  count    percentage    cumsum   rank\n",
              "0             the  75568  5.573005e-02  0.055730      1\n",
              "1               i  58428  4.308961e-02  0.098820      2\n",
              "2             and  48807  3.599429e-02  0.134814      3\n",
              "3               a  42776  3.154654e-02  0.166360      4\n",
              "4              it  42325  3.121393e-02  0.197574      5\n",
              "...           ...    ...           ...       ...    ...\n",
              "21073     bottomi      1  7.374822e-07  0.999997  21074\n",
              "21074    small27p      1  7.374822e-07  0.999998  21075\n",
              "21075     blaring      1  7.374822e-07  0.999999  21076\n",
              "21076  sleevesnot      1  7.374822e-07  0.999999  21077\n",
              "21077    platinum      1  7.374822e-07  1.000000  21078\n",
              "\n",
              "[21078 rows x 5 columns]"
            ]
          },
          "metadata": {
            "tags": []
          },
          "execution_count": 26
        }
      ]
    },
    {
      "cell_type": "code",
      "metadata": {
        "colab": {
          "base_uri": "https://localhost:8080/",
          "height": 279
        },
        "id": "fg0zlsYepBRn",
        "outputId": "642ef98b-87a6-4abf-a2c5-2c286b961da4"
      },
      "source": [
        "import seaborn as sns\n",
        "\n",
        "# 누적분포그래프(CDF)\n",
        "sns.lineplot(x='rank', y='cumsum', data=token_df);"
      ],
      "execution_count": null,
      "outputs": [
        {
          "output_type": "display_data",
          "data": {
            "image/png": "[encoded data removed]",
            "text/plain": [
              "<Figure size 432x288 with 1 Axes>"
            ]
          },
          "metadata": {
            "tags": [],
            "needs_background": "light"
          }
        }
      ]
    },
    {
      "cell_type": "code",
      "metadata": {
        "id": "zp2CJ4r3pBRn"
      },
      "source": [
        "# 추천, 비추천에 따라 비교되는 토큰 시각화\n",
        "\n",
        "# 추천하는 리뷰만\n",
        "df_rec = df_rev[df_rev['Recommended IND'] == 1]"
      ],
      "execution_count": null,
      "outputs": []
    },
    {
      "cell_type": "code",
      "metadata": {
        "id": "pH0snJ41pBRo"
      },
      "source": [
        "# 토큰 시각화를 위한 함수\n",
        "\n",
        "def token_df(word_counts):\n",
        "\n",
        "    token_df = pd.DataFrame(columns=['word', 'count'])\n",
        "\n",
        "    word, count = [], []\n",
        "\n",
        "    for i in word_counts.most_common():\n",
        "        word.append(i[0])\n",
        "        count.append(i[1])\n",
        "    \n",
        "    token_df['word'] = word\n",
        "    token_df['count'] = count\n",
        "\n",
        "    total = token_df['count'].sum()\n",
        "    token_df['percentage'] = token_df['count'].apply(lambda x:x/total)\n",
        "    token_df['cumsum'] = token_df['percentage'].cumsum()\n",
        "    token_df['rank'] = token_df.index + 1\n",
        "    return (token_df)"
      ],
      "execution_count": null,
      "outputs": []
    },
    {
      "cell_type": "code",
      "metadata": {
        "colab": {
          "base_uri": "https://localhost:8080/",
          "height": 419
        },
        "id": "nU_SEcbCpBRo",
        "outputId": "0d9440bf-e456-4332-c571-e9f02b30a2e0"
      },
      "source": [
        "# 추천하는 리뷰\n",
        "word_counts_rec = Counter()\n",
        "\n",
        "df_rec['Review Text'].apply(lambda x:word_counts_rec.update(x))\n",
        "token_rec = token_df(word_counts_rec)\n",
        "token_rec"
      ],
      "execution_count": null,
      "outputs": [
        {
          "output_type": "execute_result",
          "data": {
            "text/html": [
              "<div>\n",
              "<style scoped>\n",
              "    .dataframe tbody tr th:only-of-type {\n",
              "        vertical-align: middle;\n",
              "    }\n",
              "\n",
              "    .dataframe tbody tr th {\n",
              "        vertical-align: top;\n",
              "    }\n",
              "\n",
              "    .dataframe thead th {\n",
              "        text-align: right;\n",
              "    }\n",
              "</style>\n",
              "<table border=\"1\" class=\"dataframe\">\n",
              "  <thead>\n",
              "    <tr style=\"text-align: right;\">\n",
              "      <th></th>\n",
              "      <th>word</th>\n",
              "      <th>count</th>\n",
              "      <th>percentage</th>\n",
              "      <th>cumsum</th>\n",
              "      <th>rank</th>\n",
              "    </tr>\n",
              "  </thead>\n",
              "  <tbody>\n",
              "    <tr>\n",
              "      <th>0</th>\n",
              "      <td>the</td>\n",
              "      <td>51536</td>\n",
              "      <td>0.054042</td>\n",
              "      <td>0.054042</td>\n",
              "      <td>1</td>\n",
              "    </tr>\n",
              "    <tr>\n",
              "      <th>1</th>\n",
              "      <td>i</td>\n",
              "      <td>41243</td>\n",
              "      <td>0.043249</td>\n",
              "      <td>0.097291</td>\n",
              "      <td>2</td>\n",
              "    </tr>\n",
              "    <tr>\n",
              "      <th>2</th>\n",
              "      <td>and</td>\n",
              "      <td>35147</td>\n",
              "      <td>0.036856</td>\n",
              "      <td>0.134147</td>\n",
              "      <td>3</td>\n",
              "    </tr>\n",
              "    <tr>\n",
              "      <th>3</th>\n",
              "      <td>a</td>\n",
              "      <td>31189</td>\n",
              "      <td>0.032706</td>\n",
              "      <td>0.166853</td>\n",
              "      <td>4</td>\n",
              "    </tr>\n",
              "    <tr>\n",
              "      <th>4</th>\n",
              "      <td>it</td>\n",
              "      <td>29234</td>\n",
              "      <td>0.030656</td>\n",
              "      <td>0.197509</td>\n",
              "      <td>5</td>\n",
              "    </tr>\n",
              "    <tr>\n",
              "      <th>...</th>\n",
              "      <td>...</td>\n",
              "      <td>...</td>\n",
              "      <td>...</td>\n",
              "      <td>...</td>\n",
              "      <td>...</td>\n",
              "    </tr>\n",
              "    <tr>\n",
              "      <th>17044</th>\n",
              "      <td>duper</td>\n",
              "      <td>1</td>\n",
              "      <td>0.000001</td>\n",
              "      <td>0.999996</td>\n",
              "      <td>17045</td>\n",
              "    </tr>\n",
              "    <tr>\n",
              "      <th>17045</th>\n",
              "      <td>retailerwear</td>\n",
              "      <td>1</td>\n",
              "      <td>0.000001</td>\n",
              "      <td>0.999997</td>\n",
              "      <td>17046</td>\n",
              "    </tr>\n",
              "    <tr>\n",
              "      <th>17046</th>\n",
              "      <td>missouri</td>\n",
              "      <td>1</td>\n",
              "      <td>0.000001</td>\n",
              "      <td>0.999998</td>\n",
              "      <td>17047</td>\n",
              "    </tr>\n",
              "    <tr>\n",
              "      <th>17047</th>\n",
              "      <td>heats</td>\n",
              "      <td>1</td>\n",
              "      <td>0.000001</td>\n",
              "      <td>0.999999</td>\n",
              "      <td>17048</td>\n",
              "    </tr>\n",
              "    <tr>\n",
              "      <th>17048</th>\n",
              "      <td>thro</td>\n",
              "      <td>1</td>\n",
              "      <td>0.000001</td>\n",
              "      <td>1.000000</td>\n",
              "      <td>17049</td>\n",
              "    </tr>\n",
              "  </tbody>\n",
              "</table>\n",
              "<p>17049 rows × 5 columns</p>\n",
              "</div>"
            ],
            "text/plain": [
              "               word  count  percentage    cumsum   rank\n",
              "0               the  51536    0.054042  0.054042      1\n",
              "1                 i  41243    0.043249  0.097291      2\n",
              "2               and  35147    0.036856  0.134147      3\n",
              "3                 a  31189    0.032706  0.166853      4\n",
              "4                it  29234    0.030656  0.197509      5\n",
              "...             ...    ...         ...       ...    ...\n",
              "17044         duper      1    0.000001  0.999996  17045\n",
              "17045  retailerwear      1    0.000001  0.999997  17046\n",
              "17046      missouri      1    0.000001  0.999998  17047\n",
              "17047         heats      1    0.000001  0.999999  17048\n",
              "17048          thro      1    0.000001  1.000000  17049\n",
              "\n",
              "[17049 rows x 5 columns]"
            ]
          },
          "metadata": {
            "tags": []
          },
          "execution_count": 45
        }
      ]
    },
    {
      "cell_type": "code",
      "metadata": {
        "colab": {
          "base_uri": "https://localhost:8080/",
          "height": 359
        },
        "id": "xQlfe0a1vHOu",
        "outputId": "ef5ebaf9-f895-4be5-c559-cc3e05e75e5b"
      },
      "source": [
        "token_rec[:10]"
      ],
      "execution_count": null,
      "outputs": [
        {
          "output_type": "execute_result",
          "data": {
            "text/html": [
              "<div>\n",
              "<style scoped>\n",
              "    .dataframe tbody tr th:only-of-type {\n",
              "        vertical-align: middle;\n",
              "    }\n",
              "\n",
              "    .dataframe tbody tr th {\n",
              "        vertical-align: top;\n",
              "    }\n",
              "\n",
              "    .dataframe thead th {\n",
              "        text-align: right;\n",
              "    }\n",
              "</style>\n",
              "<table border=\"1\" class=\"dataframe\">\n",
              "  <thead>\n",
              "    <tr style=\"text-align: right;\">\n",
              "      <th></th>\n",
              "      <th>word</th>\n",
              "      <th>count</th>\n",
              "      <th>percentage</th>\n",
              "      <th>cumsum</th>\n",
              "      <th>rank</th>\n",
              "    </tr>\n",
              "  </thead>\n",
              "  <tbody>\n",
              "    <tr>\n",
              "      <th>0</th>\n",
              "      <td>the</td>\n",
              "      <td>51536</td>\n",
              "      <td>0.054042</td>\n",
              "      <td>0.054042</td>\n",
              "      <td>1</td>\n",
              "    </tr>\n",
              "    <tr>\n",
              "      <th>1</th>\n",
              "      <td>i</td>\n",
              "      <td>41243</td>\n",
              "      <td>0.043249</td>\n",
              "      <td>0.097291</td>\n",
              "      <td>2</td>\n",
              "    </tr>\n",
              "    <tr>\n",
              "      <th>2</th>\n",
              "      <td>and</td>\n",
              "      <td>35147</td>\n",
              "      <td>0.036856</td>\n",
              "      <td>0.134147</td>\n",
              "      <td>3</td>\n",
              "    </tr>\n",
              "    <tr>\n",
              "      <th>3</th>\n",
              "      <td>a</td>\n",
              "      <td>31189</td>\n",
              "      <td>0.032706</td>\n",
              "      <td>0.166853</td>\n",
              "      <td>4</td>\n",
              "    </tr>\n",
              "    <tr>\n",
              "      <th>4</th>\n",
              "      <td>it</td>\n",
              "      <td>29234</td>\n",
              "      <td>0.030656</td>\n",
              "      <td>0.197509</td>\n",
              "      <td>5</td>\n",
              "    </tr>\n",
              "    <tr>\n",
              "      <th>5</th>\n",
              "      <td>is</td>\n",
              "      <td>22320</td>\n",
              "      <td>0.023406</td>\n",
              "      <td>0.220915</td>\n",
              "      <td>6</td>\n",
              "    </tr>\n",
              "    <tr>\n",
              "      <th>6</th>\n",
              "      <td>this</td>\n",
              "      <td>17972</td>\n",
              "      <td>0.018846</td>\n",
              "      <td>0.239761</td>\n",
              "      <td>7</td>\n",
              "    </tr>\n",
              "    <tr>\n",
              "      <th>7</th>\n",
              "      <td>to</td>\n",
              "      <td>17214</td>\n",
              "      <td>0.018051</td>\n",
              "      <td>0.257812</td>\n",
              "      <td>8</td>\n",
              "    </tr>\n",
              "    <tr>\n",
              "      <th>8</th>\n",
              "      <td>in</td>\n",
              "      <td>14506</td>\n",
              "      <td>0.015211</td>\n",
              "      <td>0.273023</td>\n",
              "      <td>9</td>\n",
              "    </tr>\n",
              "    <tr>\n",
              "      <th>9</th>\n",
              "      <td>but</td>\n",
              "      <td>11068</td>\n",
              "      <td>0.011606</td>\n",
              "      <td>0.284630</td>\n",
              "      <td>10</td>\n",
              "    </tr>\n",
              "  </tbody>\n",
              "</table>\n",
              "</div>"
            ],
            "text/plain": [
              "   word  count  percentage    cumsum  rank\n",
              "0   the  51536    0.054042  0.054042     1\n",
              "1     i  41243    0.043249  0.097291     2\n",
              "2   and  35147    0.036856  0.134147     3\n",
              "3     a  31189    0.032706  0.166853     4\n",
              "4    it  29234    0.030656  0.197509     5\n",
              "5    is  22320    0.023406  0.220915     6\n",
              "6  this  17972    0.018846  0.239761     7\n",
              "7    to  17214    0.018051  0.257812     8\n",
              "8    in  14506    0.015211  0.273023     9\n",
              "9   but  11068    0.011606  0.284630    10"
            ]
          },
          "metadata": {
            "tags": []
          },
          "execution_count": 46
        }
      ]
    },
    {
      "cell_type": "code",
      "metadata": {
        "colab": {
          "base_uri": "https://localhost:8080/",
          "height": 419
        },
        "id": "_GUDZ3fKpBRo",
        "outputId": "dcfda6ab-65ab-456d-e571-812a836a8f29"
      },
      "source": [
        "# 추천하지 않는 리뷰\n",
        "\n",
        "word_counts_norec = Counter()\n",
        "df_norec = df_rev[df_rev['Recommended IND'] == 0]\n",
        "df_norec['Review Text'].apply(lambda x:word_counts_norec.update(x))\n",
        "token_norec = token_df(word_counts_norec)\n",
        "token_norec"
      ],
      "execution_count": null,
      "outputs": [
        {
          "output_type": "execute_result",
          "data": {
            "text/html": [
              "<div>\n",
              "<style scoped>\n",
              "    .dataframe tbody tr th:only-of-type {\n",
              "        vertical-align: middle;\n",
              "    }\n",
              "\n",
              "    .dataframe tbody tr th {\n",
              "        vertical-align: top;\n",
              "    }\n",
              "\n",
              "    .dataframe thead th {\n",
              "        text-align: right;\n",
              "    }\n",
              "</style>\n",
              "<table border=\"1\" class=\"dataframe\">\n",
              "  <thead>\n",
              "    <tr style=\"text-align: right;\">\n",
              "      <th></th>\n",
              "      <th>word</th>\n",
              "      <th>count</th>\n",
              "      <th>percentage</th>\n",
              "      <th>cumsum</th>\n",
              "      <th>rank</th>\n",
              "    </tr>\n",
              "  </thead>\n",
              "  <tbody>\n",
              "    <tr>\n",
              "      <th>0</th>\n",
              "      <td>the</td>\n",
              "      <td>13985</td>\n",
              "      <td>0.063498</td>\n",
              "      <td>0.063498</td>\n",
              "      <td>1</td>\n",
              "    </tr>\n",
              "    <tr>\n",
              "      <th>1</th>\n",
              "      <td>i</td>\n",
              "      <td>9260</td>\n",
              "      <td>0.042044</td>\n",
              "      <td>0.105543</td>\n",
              "      <td>2</td>\n",
              "    </tr>\n",
              "    <tr>\n",
              "      <th>2</th>\n",
              "      <td>it</td>\n",
              "      <td>7367</td>\n",
              "      <td>0.033449</td>\n",
              "      <td>0.138992</td>\n",
              "      <td>3</td>\n",
              "    </tr>\n",
              "    <tr>\n",
              "      <th>3</th>\n",
              "      <td>and</td>\n",
              "      <td>7165</td>\n",
              "      <td>0.032532</td>\n",
              "      <td>0.171524</td>\n",
              "      <td>4</td>\n",
              "    </tr>\n",
              "    <tr>\n",
              "      <th>4</th>\n",
              "      <td>a</td>\n",
              "      <td>5941</td>\n",
              "      <td>0.026975</td>\n",
              "      <td>0.198499</td>\n",
              "      <td>5</td>\n",
              "    </tr>\n",
              "    <tr>\n",
              "      <th>...</th>\n",
              "      <td>...</td>\n",
              "      <td>...</td>\n",
              "      <td>...</td>\n",
              "      <td>...</td>\n",
              "      <td>...</td>\n",
              "    </tr>\n",
              "    <tr>\n",
              "      <th>7863</th>\n",
              "      <td>staplebut</td>\n",
              "      <td>1</td>\n",
              "      <td>0.000005</td>\n",
              "      <td>0.999982</td>\n",
              "      <td>7864</td>\n",
              "    </tr>\n",
              "    <tr>\n",
              "      <th>7864</th>\n",
              "      <td>rush</td>\n",
              "      <td>1</td>\n",
              "      <td>0.000005</td>\n",
              "      <td>0.999986</td>\n",
              "      <td>7865</td>\n",
              "    </tr>\n",
              "    <tr>\n",
              "      <th>7865</th>\n",
              "      <td>hug</td>\n",
              "      <td>1</td>\n",
              "      <td>0.000005</td>\n",
              "      <td>0.999991</td>\n",
              "      <td>7866</td>\n",
              "    </tr>\n",
              "    <tr>\n",
              "      <th>7866</th>\n",
              "      <td>theoryended</td>\n",
              "      <td>1</td>\n",
              "      <td>0.000005</td>\n",
              "      <td>0.999995</td>\n",
              "      <td>7867</td>\n",
              "    </tr>\n",
              "    <tr>\n",
              "      <th>7867</th>\n",
              "      <td>compliment</td>\n",
              "      <td>1</td>\n",
              "      <td>0.000005</td>\n",
              "      <td>1.000000</td>\n",
              "      <td>7868</td>\n",
              "    </tr>\n",
              "  </tbody>\n",
              "</table>\n",
              "<p>7868 rows × 5 columns</p>\n",
              "</div>"
            ],
            "text/plain": [
              "             word  count  percentage    cumsum  rank\n",
              "0             the  13985    0.063498  0.063498     1\n",
              "1               i   9260    0.042044  0.105543     2\n",
              "2              it   7367    0.033449  0.138992     3\n",
              "3             and   7165    0.032532  0.171524     4\n",
              "4               a   5941    0.026975  0.198499     5\n",
              "...           ...    ...         ...       ...   ...\n",
              "7863    staplebut      1    0.000005  0.999982  7864\n",
              "7864         rush      1    0.000005  0.999986  7865\n",
              "7865          hug      1    0.000005  0.999991  7866\n",
              "7866  theoryended      1    0.000005  0.999995  7867\n",
              "7867   compliment      1    0.000005  1.000000  7868\n",
              "\n",
              "[7868 rows x 5 columns]"
            ]
          },
          "metadata": {
            "tags": []
          },
          "execution_count": 22
        }
      ]
    },
    {
      "cell_type": "code",
      "metadata": {
        "colab": {
          "base_uri": "https://localhost:8080/"
        },
        "id": "JCbDhU0_q1Y4",
        "outputId": "b6878fe7-0023-4fc3-bcd5-4d364199fa16"
      },
      "source": [
        "!pip3 install squarify"
      ],
      "execution_count": null,
      "outputs": [
        {
          "output_type": "stream",
          "text": [
            "Collecting squarify\n",
            "  Downloading https://files.pythonhosted.org/packages/0b/2b/2e77c35326efec19819cd1d729540d4d235e6c2a3f37658288a363a67da5/squarify-0.4.3-py3-none-any.whl\n",
            "Installing collected packages: squarify\n",
            "Successfully installed squarify-0.4.3\n"
          ],
          "name": "stdout"
        }
      ]
    },
    {
      "cell_type": "code",
      "metadata": {
        "colab": {
          "base_uri": "https://localhost:8080/",
          "height": 264
        },
        "id": "x9QRYoCmpBRo",
        "outputId": "7c16293b-a9bd-4185-defa-556759625d4d"
      },
      "source": [
        "import squarify\n",
        "import matplotlib.pyplot as plt\n",
        "\n",
        "color=['viridis']\n",
        "\n",
        "wc_top20 = token_rec[token_rec['rank'] <= 20]\n",
        "squarify.plot(sizes=wc_top20['percentage'], label=wc_top20['word'], alpha=0.6)\n",
        "plt.axis('off')\n",
        "plt.title(\"Recommend Reviews\")\n",
        "plt.show()"
      ],
      "execution_count": null,
      "outputs": [
        {
          "output_type": "display_data",
          "data": {
            "image/png": "[encoded data removed]",
            "text/plain": [
              "<Figure size 432x288 with 1 Axes>"
            ]
          },
          "metadata": {
            "tags": [],
            "needs_background": "light"
          }
        }
      ]
    },
    {
      "cell_type": "code",
      "metadata": {
        "colab": {
          "base_uri": "https://localhost:8080/",
          "height": 264
        },
        "id": "Gyt1HMbOpBRp",
        "outputId": "adcf6723-48a9-422a-f507-c868e3eaafe4"
      },
      "source": [
        "wc_top20 = token_norec[token_norec['rank'] <= 20]\n",
        "squarify.plot(sizes=wc_top20['percentage'], label=wc_top20['word'], alpha=0.6)\n",
        "plt.axis('off')\n",
        "plt.title(\"Non-Recommend Reviews\")\n",
        "plt.show()"
      ],
      "execution_count": null,
      "outputs": [
        {
          "output_type": "display_data",
          "data": {
            "image/png": "[encoded data removed]",
            "text/plain": [
              "<Figure size 432x288 with 1 Axes>"
            ]
          },
          "metadata": {
            "tags": [],
            "needs_background": "light"
          }
        }
      ]
    },
    {
      "cell_type": "markdown",
      "metadata": {
        "id": "HPTm8KAOpBRp"
      },
      "source": [
        "- 별 차이 없으므로, 불용어 사전을 사용해 토큰 정제후 다시 그리기"
      ]
    },
    {
      "cell_type": "markdown",
      "metadata": {
        "id": "sURsv85FnxVU"
      },
      "source": [
        "### 4) 확장된 불용어 사전을 사용해 토큰을 정제합니다.\n",
        "\n",
        "- 문항 4) 불용어를 제거하고 난 뒤 토큰 순위 10개의 단어를 입력하시오."
      ]
    },
    {
      "cell_type": "code",
      "metadata": {
        "id": "2Odmr7mwpBRp"
      },
      "source": [
        "!python3 -m spacy download en_core_web_sm"
      ],
      "execution_count": null,
      "outputs": []
    },
    {
      "cell_type": "code",
      "metadata": {
        "id": "tDivbI3lpBRq"
      },
      "source": [
        "# spacy 사용해보기\n",
        "import spacy\n",
        "from spacy.tokenizer import Tokenizer\n",
        "import en_core_web_sm\n",
        "nlp = spacy.load(\"en_core_web_sm\")"
      ],
      "execution_count": null,
      "outputs": []
    },
    {
      "cell_type": "code",
      "metadata": {
        "id": "GBGV9DByrDn_"
      },
      "source": [
        "rec = df[df['Recommended IND'] == 1]\n",
        "norec = df[df['Recommended IND'] == 0]"
      ],
      "execution_count": null,
      "outputs": []
    },
    {
      "cell_type": "code",
      "metadata": {
        "id": "tJ2FH1QurlX1"
      },
      "source": [
        "rec['Review Text'] = rec['Review Text'].astype(str)\n",
        "norec['Review Text'] = norec['Review Text'].astype(str)"
      ],
      "execution_count": null,
      "outputs": []
    },
    {
      "cell_type": "code",
      "metadata": {
        "id": "PI2qNNwEreyN"
      },
      "source": [
        "tokenizer = Tokenizer(nlp.vocab)"
      ],
      "execution_count": null,
      "outputs": []
    },
    {
      "cell_type": "code",
      "metadata": {
        "id": "6ZXcFk8crBgA"
      },
      "source": [
        "def tokenize2(df):\n",
        "  tokens = []\n",
        "  # 토큰에서 불용어 제거, 소문자화 하여 업데이트\n",
        "  for doc in tokenizer.pipe(df['Review Text']):\n",
        "      doc_tokens = []\n",
        "\n",
        "      # A doc is a sequence of Token(<class 'spacy.tokens.doc.Doc'>)\n",
        "      for token in doc:\n",
        "          # 토큰이 불용어와 구두점이 아니면 저장\n",
        "          if (token.is_stop == False) & (token.is_punct == False):\n",
        "              doc_tokens.append(token.text.lower())\n",
        "\n",
        "      tokens.append(doc_tokens)\n",
        "\n",
        "  df['tokens'] = tokens"
      ],
      "execution_count": null,
      "outputs": []
    },
    {
      "cell_type": "code",
      "metadata": {
        "id": "TGbK4YubrXCw"
      },
      "source": [
        "tokenize2(rec)\n",
        "tokenize2(norec)"
      ],
      "execution_count": null,
      "outputs": []
    },
    {
      "cell_type": "code",
      "metadata": {
        "colab": {
          "base_uri": "https://localhost:8080/"
        },
        "id": "XopjdqLysQqp",
        "outputId": "6612476b-f011-4a79-eb81-b4c46229d85f"
      },
      "source": [
        "rec['tokens']"
      ],
      "execution_count": null,
      "outputs": [
        {
          "output_type": "execute_result",
          "data": {
            "text/plain": [
              "0        [absolutely, wonderful, silky, sexy, comfortable]\n",
              "1        [love, dress!,  , it's, sooo, pretty.,  , happ...\n",
              "3        [love,, love,, love, jumpsuit., it's, fun,, fl...\n",
              "4        [shirt, flattering, adjustable, tie., perfect,...\n",
              "6        [aded, basket, hte, mintue, look, like, person...\n",
              "                               ...                        \n",
              "20325    [jeans, great, summer,, great, high, waist, fi...\n",
              "20327    [normally, don't, care, rayon, clothing, fabri...\n",
              "20328    [teacher,, it's, great, able, find, dresses, m...\n",
              "20329    [bought, black, love, it., bought, medium, lar...\n",
              "20330    [absolutely, love, blouse!, it's, easily, favo...\n",
              "Name: tokens, Length: 16705, dtype: object"
            ]
          },
          "metadata": {
            "tags": []
          },
          "execution_count": 40
        }
      ]
    },
    {
      "cell_type": "code",
      "metadata": {
        "colab": {
          "base_uri": "https://localhost:8080/",
          "height": 419
        },
        "id": "I6xZfLS0sGOb",
        "outputId": "b9196396-91f5-47e6-9d15-9261b2554e51"
      },
      "source": [
        "# 추천하는 리뷰\n",
        "word_counts_rec = Counter()\n",
        "\n",
        "rec['tokens'].apply(lambda x:word_counts_rec.update(x))\n",
        "token_rec = token_df(word_counts_rec)\n",
        "token_rec"
      ],
      "execution_count": null,
      "outputs": [
        {
          "output_type": "execute_result",
          "data": {
            "text/html": [
              "<div>\n",
              "<style scoped>\n",
              "    .dataframe tbody tr th:only-of-type {\n",
              "        vertical-align: middle;\n",
              "    }\n",
              "\n",
              "    .dataframe tbody tr th {\n",
              "        vertical-align: top;\n",
              "    }\n",
              "\n",
              "    .dataframe thead th {\n",
              "        text-align: right;\n",
              "    }\n",
              "</style>\n",
              "<table border=\"1\" class=\"dataframe\">\n",
              "  <thead>\n",
              "    <tr style=\"text-align: right;\">\n",
              "      <th></th>\n",
              "      <th>word</th>\n",
              "      <th>count</th>\n",
              "      <th>percentage</th>\n",
              "      <th>cumsum</th>\n",
              "      <th>rank</th>\n",
              "    </tr>\n",
              "  </thead>\n",
              "  <tbody>\n",
              "    <tr>\n",
              "      <th>0</th>\n",
              "      <td>love</td>\n",
              "      <td>6478</td>\n",
              "      <td>0.014383</td>\n",
              "      <td>0.014383</td>\n",
              "      <td>1</td>\n",
              "    </tr>\n",
              "    <tr>\n",
              "      <th>1</th>\n",
              "      <td>dress</td>\n",
              "      <td>5509</td>\n",
              "      <td>0.012231</td>\n",
              "      <td>0.026614</td>\n",
              "      <td>2</td>\n",
              "    </tr>\n",
              "    <tr>\n",
              "      <th>2</th>\n",
              "      <td>size</td>\n",
              "      <td>5036</td>\n",
              "      <td>0.011181</td>\n",
              "      <td>0.037795</td>\n",
              "      <td>3</td>\n",
              "    </tr>\n",
              "    <tr>\n",
              "      <th>3</th>\n",
              "      <td>it's</td>\n",
              "      <td>4615</td>\n",
              "      <td>0.010246</td>\n",
              "      <td>0.048041</td>\n",
              "      <td>4</td>\n",
              "    </tr>\n",
              "    <tr>\n",
              "      <th>4</th>\n",
              "      <td>wear</td>\n",
              "      <td>4544</td>\n",
              "      <td>0.010089</td>\n",
              "      <td>0.058130</td>\n",
              "      <td>5</td>\n",
              "    </tr>\n",
              "    <tr>\n",
              "      <th>...</th>\n",
              "      <td>...</td>\n",
              "      <td>...</td>\n",
              "      <td>...</td>\n",
              "      <td>...</td>\n",
              "      <td>...</td>\n",
              "    </tr>\n",
              "    <tr>\n",
              "      <th>30025</th>\n",
              "      <td>retailer-wear</td>\n",
              "      <td>1</td>\n",
              "      <td>0.000002</td>\n",
              "      <td>0.999991</td>\n",
              "      <td>30026</td>\n",
              "    </tr>\n",
              "    <tr>\n",
              "      <th>30026</th>\n",
              "      <td>missouri</td>\n",
              "      <td>1</td>\n",
              "      <td>0.000002</td>\n",
              "      <td>0.999993</td>\n",
              "      <td>30027</td>\n",
              "    </tr>\n",
              "    <tr>\n",
              "      <th>30027</th>\n",
              "      <td>heats</td>\n",
              "      <td>1</td>\n",
              "      <td>0.000002</td>\n",
              "      <td>0.999996</td>\n",
              "      <td>30028</td>\n",
              "    </tr>\n",
              "    <tr>\n",
              "      <th>30028</th>\n",
              "      <td>prone,</td>\n",
              "      <td>1</td>\n",
              "      <td>0.000002</td>\n",
              "      <td>0.999998</td>\n",
              "      <td>30029</td>\n",
              "    </tr>\n",
              "    <tr>\n",
              "      <th>30029</th>\n",
              "      <td>thro</td>\n",
              "      <td>1</td>\n",
              "      <td>0.000002</td>\n",
              "      <td>1.000000</td>\n",
              "      <td>30030</td>\n",
              "    </tr>\n",
              "  </tbody>\n",
              "</table>\n",
              "<p>30030 rows × 5 columns</p>\n",
              "</div>"
            ],
            "text/plain": [
              "                word  count  percentage    cumsum   rank\n",
              "0               love   6478    0.014383  0.014383      1\n",
              "1              dress   5509    0.012231  0.026614      2\n",
              "2               size   5036    0.011181  0.037795      3\n",
              "3               it's   4615    0.010246  0.048041      4\n",
              "4               wear   4544    0.010089  0.058130      5\n",
              "...              ...    ...         ...       ...    ...\n",
              "30025  retailer-wear      1    0.000002  0.999991  30026\n",
              "30026       missouri      1    0.000002  0.999993  30027\n",
              "30027          heats      1    0.000002  0.999996  30028\n",
              "30028         prone,      1    0.000002  0.999998  30029\n",
              "30029           thro      1    0.000002  1.000000  30030\n",
              "\n",
              "[30030 rows x 5 columns]"
            ]
          },
          "metadata": {
            "tags": []
          },
          "execution_count": 48
        }
      ]
    },
    {
      "cell_type": "code",
      "metadata": {
        "colab": {
          "base_uri": "https://localhost:8080/",
          "height": 359
        },
        "id": "eyGYVO1_vTul",
        "outputId": "6728669e-75c4-448a-ebfc-e03ea3d866a2"
      },
      "source": [
        "token_rec[:10]"
      ],
      "execution_count": null,
      "outputs": [
        {
          "output_type": "execute_result",
          "data": {
            "text/html": [
              "<div>\n",
              "<style scoped>\n",
              "    .dataframe tbody tr th:only-of-type {\n",
              "        vertical-align: middle;\n",
              "    }\n",
              "\n",
              "    .dataframe tbody tr th {\n",
              "        vertical-align: top;\n",
              "    }\n",
              "\n",
              "    .dataframe thead th {\n",
              "        text-align: right;\n",
              "    }\n",
              "</style>\n",
              "<table border=\"1\" class=\"dataframe\">\n",
              "  <thead>\n",
              "    <tr style=\"text-align: right;\">\n",
              "      <th></th>\n",
              "      <th>word</th>\n",
              "      <th>count</th>\n",
              "      <th>percentage</th>\n",
              "      <th>cumsum</th>\n",
              "      <th>rank</th>\n",
              "    </tr>\n",
              "  </thead>\n",
              "  <tbody>\n",
              "    <tr>\n",
              "      <th>0</th>\n",
              "      <td>love</td>\n",
              "      <td>6478</td>\n",
              "      <td>0.014383</td>\n",
              "      <td>0.014383</td>\n",
              "      <td>1</td>\n",
              "    </tr>\n",
              "    <tr>\n",
              "      <th>1</th>\n",
              "      <td>dress</td>\n",
              "      <td>5509</td>\n",
              "      <td>0.012231</td>\n",
              "      <td>0.026614</td>\n",
              "      <td>2</td>\n",
              "    </tr>\n",
              "    <tr>\n",
              "      <th>2</th>\n",
              "      <td>size</td>\n",
              "      <td>5036</td>\n",
              "      <td>0.011181</td>\n",
              "      <td>0.037795</td>\n",
              "      <td>3</td>\n",
              "    </tr>\n",
              "    <tr>\n",
              "      <th>3</th>\n",
              "      <td>it's</td>\n",
              "      <td>4615</td>\n",
              "      <td>0.010246</td>\n",
              "      <td>0.048041</td>\n",
              "      <td>4</td>\n",
              "    </tr>\n",
              "    <tr>\n",
              "      <th>4</th>\n",
              "      <td>wear</td>\n",
              "      <td>4544</td>\n",
              "      <td>0.010089</td>\n",
              "      <td>0.058130</td>\n",
              "      <td>5</td>\n",
              "    </tr>\n",
              "    <tr>\n",
              "      <th>5</th>\n",
              "      <td>like</td>\n",
              "      <td>4364</td>\n",
              "      <td>0.009689</td>\n",
              "      <td>0.067819</td>\n",
              "      <td>6</td>\n",
              "    </tr>\n",
              "    <tr>\n",
              "      <th>6</th>\n",
              "      <td>fit</td>\n",
              "      <td>4186</td>\n",
              "      <td>0.009294</td>\n",
              "      <td>0.077112</td>\n",
              "      <td>7</td>\n",
              "    </tr>\n",
              "    <tr>\n",
              "      <th>7</th>\n",
              "      <td>i'm</td>\n",
              "      <td>4049</td>\n",
              "      <td>0.008990</td>\n",
              "      <td>0.086102</td>\n",
              "      <td>8</td>\n",
              "    </tr>\n",
              "    <tr>\n",
              "      <th>8</th>\n",
              "      <td>great</td>\n",
              "      <td>3858</td>\n",
              "      <td>0.008566</td>\n",
              "      <td>0.094668</td>\n",
              "      <td>9</td>\n",
              "    </tr>\n",
              "    <tr>\n",
              "      <th>9</th>\n",
              "      <td>little</td>\n",
              "      <td>2899</td>\n",
              "      <td>0.006436</td>\n",
              "      <td>0.101104</td>\n",
              "      <td>10</td>\n",
              "    </tr>\n",
              "  </tbody>\n",
              "</table>\n",
              "</div>"
            ],
            "text/plain": [
              "     word  count  percentage    cumsum  rank\n",
              "0    love   6478    0.014383  0.014383     1\n",
              "1   dress   5509    0.012231  0.026614     2\n",
              "2    size   5036    0.011181  0.037795     3\n",
              "3    it's   4615    0.010246  0.048041     4\n",
              "4    wear   4544    0.010089  0.058130     5\n",
              "5    like   4364    0.009689  0.067819     6\n",
              "6     fit   4186    0.009294  0.077112     7\n",
              "7     i'm   4049    0.008990  0.086102     8\n",
              "8   great   3858    0.008566  0.094668     9\n",
              "9  little   2899    0.006436  0.101104    10"
            ]
          },
          "metadata": {
            "tags": []
          },
          "execution_count": 49
        }
      ]
    },
    {
      "cell_type": "code",
      "metadata": {
        "colab": {
          "base_uri": "https://localhost:8080/",
          "height": 419
        },
        "id": "sIEW_WlwsZTk",
        "outputId": "c34f2fca-a8ec-4b48-96ac-667da0e65e6b"
      },
      "source": [
        "# 추천하지 않는 리뷰\n",
        "\n",
        "word_counts_norec = Counter()\n",
        "\n",
        "norec['tokens'].apply(lambda x:word_counts_norec.update(x))\n",
        "token_norec = token_df(word_counts_norec)\n",
        "token_norec"
      ],
      "execution_count": null,
      "outputs": [
        {
          "output_type": "execute_result",
          "data": {
            "text/html": [
              "<div>\n",
              "<style scoped>\n",
              "    .dataframe tbody tr th:only-of-type {\n",
              "        vertical-align: middle;\n",
              "    }\n",
              "\n",
              "    .dataframe tbody tr th {\n",
              "        vertical-align: top;\n",
              "    }\n",
              "\n",
              "    .dataframe thead th {\n",
              "        text-align: right;\n",
              "    }\n",
              "</style>\n",
              "<table border=\"1\" class=\"dataframe\">\n",
              "  <thead>\n",
              "    <tr style=\"text-align: right;\">\n",
              "      <th></th>\n",
              "      <th>word</th>\n",
              "      <th>count</th>\n",
              "      <th>percentage</th>\n",
              "      <th>cumsum</th>\n",
              "      <th>rank</th>\n",
              "    </tr>\n",
              "  </thead>\n",
              "  <tbody>\n",
              "    <tr>\n",
              "      <th>0</th>\n",
              "      <td>like</td>\n",
              "      <td>1479</td>\n",
              "      <td>0.014854</td>\n",
              "      <td>0.014854</td>\n",
              "      <td>1</td>\n",
              "    </tr>\n",
              "    <tr>\n",
              "      <th>1</th>\n",
              "      <td>dress</td>\n",
              "      <td>1293</td>\n",
              "      <td>0.012986</td>\n",
              "      <td>0.027839</td>\n",
              "      <td>2</td>\n",
              "    </tr>\n",
              "    <tr>\n",
              "      <th>2</th>\n",
              "      <td>fit</td>\n",
              "      <td>961</td>\n",
              "      <td>0.009651</td>\n",
              "      <td>0.037491</td>\n",
              "      <td>3</td>\n",
              "    </tr>\n",
              "    <tr>\n",
              "      <th>3</th>\n",
              "      <td>fabric</td>\n",
              "      <td>852</td>\n",
              "      <td>0.008557</td>\n",
              "      <td>0.046048</td>\n",
              "      <td>4</td>\n",
              "    </tr>\n",
              "    <tr>\n",
              "      <th>4</th>\n",
              "      <td>it's</td>\n",
              "      <td>841</td>\n",
              "      <td>0.008446</td>\n",
              "      <td>0.054494</td>\n",
              "      <td>5</td>\n",
              "    </tr>\n",
              "    <tr>\n",
              "      <th>...</th>\n",
              "      <td>...</td>\n",
              "      <td>...</td>\n",
              "      <td>...</td>\n",
              "      <td>...</td>\n",
              "      <td>...</td>\n",
              "    </tr>\n",
              "    <tr>\n",
              "      <th>12775</th>\n",
              "      <td>taste</td>\n",
              "      <td>1</td>\n",
              "      <td>0.000010</td>\n",
              "      <td>0.999960</td>\n",
              "      <td>12776</td>\n",
              "    </tr>\n",
              "    <tr>\n",
              "      <th>12776</th>\n",
              "      <td>cuter,</td>\n",
              "      <td>1</td>\n",
              "      <td>0.000010</td>\n",
              "      <td>0.999970</td>\n",
              "      <td>12777</td>\n",
              "    </tr>\n",
              "    <tr>\n",
              "      <th>12777</th>\n",
              "      <td>compliments,</td>\n",
              "      <td>1</td>\n",
              "      <td>0.000010</td>\n",
              "      <td>0.999980</td>\n",
              "      <td>12778</td>\n",
              "    </tr>\n",
              "    <tr>\n",
              "      <th>12778</th>\n",
              "      <td>compliment</td>\n",
              "      <td>1</td>\n",
              "      <td>0.000010</td>\n",
              "      <td>0.999990</td>\n",
              "      <td>12779</td>\n",
              "    </tr>\n",
              "    <tr>\n",
              "      <th>12779</th>\n",
              "      <td>complexion</td>\n",
              "      <td>1</td>\n",
              "      <td>0.000010</td>\n",
              "      <td>1.000000</td>\n",
              "      <td>12780</td>\n",
              "    </tr>\n",
              "  </tbody>\n",
              "</table>\n",
              "<p>12780 rows × 5 columns</p>\n",
              "</div>"
            ],
            "text/plain": [
              "               word  count  percentage    cumsum   rank\n",
              "0              like   1479    0.014854  0.014854      1\n",
              "1             dress   1293    0.012986  0.027839      2\n",
              "2               fit    961    0.009651  0.037491      3\n",
              "3            fabric    852    0.008557  0.046048      4\n",
              "4              it's    841    0.008446  0.054494      5\n",
              "...             ...    ...         ...       ...    ...\n",
              "12775         taste      1    0.000010  0.999960  12776\n",
              "12776        cuter,      1    0.000010  0.999970  12777\n",
              "12777  compliments,      1    0.000010  0.999980  12778\n",
              "12778    compliment      1    0.000010  0.999990  12779\n",
              "12779    complexion      1    0.000010  1.000000  12780\n",
              "\n",
              "[12780 rows x 5 columns]"
            ]
          },
          "metadata": {
            "tags": []
          },
          "execution_count": 42
        }
      ]
    },
    {
      "cell_type": "code",
      "metadata": {
        "colab": {
          "base_uri": "https://localhost:8080/",
          "height": 264
        },
        "id": "AbM2P8v2rzFH",
        "outputId": "4bd30289-1211-4ff7-9851-1911a9032f45"
      },
      "source": [
        "wc_top20 = token_rec[token_rec['rank'] <= 20]\n",
        "squarify.plot(sizes=wc_top20['percentage'], label=wc_top20['word'], alpha=0.6)\n",
        "plt.axis('off')\n",
        "plt.title(\"Recommend Reviews\")\n",
        "plt.show()"
      ],
      "execution_count": null,
      "outputs": [
        {
          "output_type": "display_data",
          "data": {
            "image/png": "[encoded data removed]",
            "text/plain": [
              "<Figure size 432x288 with 1 Axes>"
            ]
          },
          "metadata": {
            "tags": [],
            "needs_background": "light"
          }
        }
      ]
    },
    {
      "cell_type": "code",
      "metadata": {
        "colab": {
          "base_uri": "https://localhost:8080/",
          "height": 264
        },
        "id": "pUoE9inFsmve",
        "outputId": "51aeb8c0-8c86-44d8-f070-fb272c0008b7"
      },
      "source": [
        "wc_top20 = token_norec[token_norec['rank'] <= 20]\n",
        "squarify.plot(sizes=wc_top20['percentage'], label=wc_top20['word'], alpha=0.6)\n",
        "plt.axis('off')\n",
        "plt.title(\"Non-Recommend Reviews\")\n",
        "plt.show()"
      ],
      "execution_count": null,
      "outputs": [
        {
          "output_type": "display_data",
          "data": {
            "image/png": "[encoded data removed]",
            "text/plain": [
              "<Figure size 432x288 with 1 Axes>"
            ]
          },
          "metadata": {
            "tags": [],
            "needs_background": "light"
          }
        }
      ]
    },
    {
      "cell_type": "markdown",
      "metadata": {
        "id": "yYg-7lGXnxVU"
      },
      "source": [
        "### 5) 통계적 트리밍 사용 전/후 토큰 분포를 비교합니다.\n",
        "- 문서 등장 비율이 20% 미만이고, 최소 1% 이상 등장하는 단어만 선택한 뒤,\n",
        "- 통계적 트리밍 사용 전/후 토큰 분포 시각화하고,\n",
        "- 문항 5-1) 통계적 트리밍 후 상위 토큰 10개의 단어를 입력하시오.\n",
        "- 문항 5-2) 불용어 처리 & 통계적 트리밍 후 상위 토큰 10개의 단어를 입력하시오."
      ]
    },
    {
      "cell_type": "code",
      "metadata": {
        "id": "ImuyJNmenxVU"
      },
      "source": [
        "def word_count(docs):\n",
        "    \"\"\" 토큰화된 문서들을 입력받아 토큰을 카운트 하고 관련된 속성을 가진 데이터프레임을 리턴합니다.\n",
        "    Args:\n",
        "        docs (series or list): 토큰화된 문서가 들어있는 list\n",
        "    Returns:\n",
        "        list: Dataframe\n",
        "    \"\"\"\n",
        "    # 전체 코퍼스에서 단어 빈도 카운트\n",
        "    word_counts = Counter()\n",
        "\n",
        "    # 단어가 존재하는 문서의 빈도 카운트, 단어가 한 번 이상 존재하면 +1\n",
        "    word_in_docs = Counter()\n",
        "\n",
        "    # 전체 문서의 갯수\n",
        "    total_docs = len(docs)\n",
        "\n",
        "    for doc in docs:\n",
        "        word_counts.update(doc)\n",
        "        word_in_docs.update(set(doc))\n",
        "\n",
        "    temp = zip(word_counts.keys(), word_counts.values())\n",
        "\n",
        "    wc = pd.DataFrame(temp, columns = ['word', 'count'])\n",
        "\n",
        "    # 단어의 순위\n",
        "    # method='first': 같은 값의 경우 먼저나온 요소를 우선\n",
        "    wc['rank'] = wc['count'].rank(method='first', ascending=False)\n",
        "    total = wc['count'].sum()\n",
        "\n",
        "    # 코퍼스 내 단어의 비율\n",
        "    wc['percent'] = wc['count'].apply(lambda x: x / total)\n",
        "\n",
        "    wc = wc.sort_values(by='rank')\n",
        "\n",
        "    # 누적 비율\n",
        "    # cumsum() : cumulative sum\n",
        "    wc['cul_percent'] = wc['percent'].cumsum()\n",
        "\n",
        "    temp2 = zip(word_in_docs.keys(), word_in_docs.values())\n",
        "    ac = pd.DataFrame(temp2, columns=['word', 'word_in_docs'])\n",
        "    wc = ac.merge(wc, on='word')\n",
        "    \n",
        "    # 전체 문서 중 존재하는 비율\n",
        "    wc['word_in_docs_percent'] = wc['word_in_docs'].apply(lambda x: x / total_docs)\n",
        "\n",
        "    return wc.sort_values(by='rank')"
      ],
      "execution_count": null,
      "outputs": []
    },
    {
      "cell_type": "code",
      "metadata": {
        "id": "nKLtLdCax77o"
      },
      "source": [
        "df['Review Text'] = df['Review Text'].astype(str)"
      ],
      "execution_count": null,
      "outputs": []
    },
    {
      "cell_type": "code",
      "metadata": {
        "id": "kjqyMwV1xsv0"
      },
      "source": [
        "tokenize2(df)"
      ],
      "execution_count": null,
      "outputs": []
    },
    {
      "cell_type": "code",
      "metadata": {
        "id": "TbTQcMxnxor1"
      },
      "source": [
        "wc = word_count(df['tokens'])"
      ],
      "execution_count": null,
      "outputs": []
    },
    {
      "cell_type": "code",
      "metadata": {
        "colab": {
          "base_uri": "https://localhost:8080/",
          "height": 369
        },
        "id": "UG03PLLnyCQ1",
        "outputId": "085ff839-c31f-4ed0-b81d-2fd1ce3b58bb"
      },
      "source": [
        "# 최대 20% 미만, 최소 1% 이상 문서에 나타나는 단어들만 선택합니다.\n",
        "\n",
        "wc = wc[(wc['word_in_docs_percent'] < 0.2) & (wc['word_in_docs_percent'] >= 0.01)]\n",
        "\n",
        "sns.displot(wc['word_in_docs_percent'], kind='kde');"
      ],
      "execution_count": null,
      "outputs": [
        {
          "output_type": "display_data",
          "data": {
            "image/png": "[encoded data removed]",
            "text/plain": [
              "<Figure size 360x360 with 1 Axes>"
            ]
          },
          "metadata": {
            "tags": [],
            "needs_background": "light"
          }
        }
      ]
    },
    {
      "cell_type": "code",
      "metadata": {
        "colab": {
          "base_uri": "https://localhost:8080/"
        },
        "id": "5LRX3B8DyJ5g",
        "outputId": "181b1e51-51d2-4e82-86dc-3dbeae03331e"
      },
      "source": [
        "for i in wc['word'][:10]:\n",
        "  print(i)"
      ],
      "execution_count": null,
      "outputs": [
        {
          "output_type": "stream",
          "text": [
            "i'm\n",
            "great\n",
            "ordered\n",
            "fabric\n",
            "little\n",
            "look\n",
            "color\n",
            "it.\n",
            "small\n",
            "bought\n"
          ],
          "name": "stdout"
        }
      ]
    },
    {
      "cell_type": "code",
      "metadata": {
        "id": "rDWPscITwK4E"
      },
      "source": [
        "# 불용어 처리 한 후\n",
        "wc = word_count(rec['tokens'])"
      ],
      "execution_count": null,
      "outputs": []
    },
    {
      "cell_type": "code",
      "metadata": {
        "id": "DT-i1FFVw_zf"
      },
      "source": [
        "wc"
      ],
      "execution_count": null,
      "outputs": []
    },
    {
      "cell_type": "code",
      "metadata": {
        "colab": {
          "base_uri": "https://localhost:8080/",
          "height": 369
        },
        "id": "rPL-lQRpws1I",
        "outputId": "8f9ddd08-2a30-4b94-d6f9-bf5d6c4fcd23"
      },
      "source": [
        "# 문서에 나타나는 빈도\n",
        "sns.displot(wc['word_in_docs_percent'],kind='kde');"
      ],
      "execution_count": null,
      "outputs": [
        {
          "output_type": "display_data",
          "data": {
            "image/png": "[encoded data removed]",
            "text/plain": [
              "<Figure size 360x360 with 1 Axes>"
            ]
          },
          "metadata": {
            "tags": [],
            "needs_background": "light"
          }
        }
      ]
    },
    {
      "cell_type": "code",
      "metadata": {
        "colab": {
          "base_uri": "https://localhost:8080/",
          "height": 369
        },
        "id": "eZt5WKDlw0t0",
        "outputId": "a9f16fbd-a4d5-4c22-998e-9138ea805ac8"
      },
      "source": [
        "# 최대 20% 미만, 최소 1% 이상 문서에 나타나는 단어들만 선택합니다.\n",
        "\n",
        "wc = wc[(wc['word_in_docs_percent'] < 0.2) & (wc['word_in_docs_percent'] >= 0.01)]\n",
        "\n",
        "sns.displot(wc['word_in_docs_percent'], kind='kde');"
      ],
      "execution_count": null,
      "outputs": [
        {
          "output_type": "display_data",
          "data": {
            "image/png": "[encoded data removed]",
            "text/plain": [
              "<Figure size 360x360 with 1 Axes>"
            ]
          },
          "metadata": {
            "tags": [],
            "needs_background": "light"
          }
        }
      ]
    },
    {
      "cell_type": "code",
      "metadata": {
        "colab": {
          "base_uri": "https://localhost:8080/",
          "height": 419
        },
        "id": "3cvyOc74xbKb",
        "outputId": "e1e9442f-47b4-42b3-c57d-50e24e452718"
      },
      "source": [
        "wc"
      ],
      "execution_count": null,
      "outputs": [
        {
          "output_type": "execute_result",
          "data": {
            "text/html": [
              "<div>\n",
              "<style scoped>\n",
              "    .dataframe tbody tr th:only-of-type {\n",
              "        vertical-align: middle;\n",
              "    }\n",
              "\n",
              "    .dataframe tbody tr th {\n",
              "        vertical-align: top;\n",
              "    }\n",
              "\n",
              "    .dataframe thead th {\n",
              "        text-align: right;\n",
              "    }\n",
              "</style>\n",
              "<table border=\"1\" class=\"dataframe\">\n",
              "  <thead>\n",
              "    <tr style=\"text-align: right;\">\n",
              "      <th></th>\n",
              "      <th>word</th>\n",
              "      <th>word_in_docs</th>\n",
              "      <th>count</th>\n",
              "      <th>rank</th>\n",
              "      <th>percent</th>\n",
              "      <th>cul_percent</th>\n",
              "      <th>word_in_docs_percent</th>\n",
              "    </tr>\n",
              "  </thead>\n",
              "  <tbody>\n",
              "    <tr>\n",
              "      <th>13</th>\n",
              "      <td>love</td>\n",
              "      <td>5508</td>\n",
              "      <td>6478</td>\n",
              "      <td>1.0</td>\n",
              "      <td>0.014383</td>\n",
              "      <td>0.014383</td>\n",
              "      <td>0.329722</td>\n",
              "    </tr>\n",
              "    <tr>\n",
              "      <th>165</th>\n",
              "      <td>dress</td>\n",
              "      <td>3561</td>\n",
              "      <td>5509</td>\n",
              "      <td>2.0</td>\n",
              "      <td>0.012231</td>\n",
              "      <td>0.026614</td>\n",
              "      <td>0.213170</td>\n",
              "    </tr>\n",
              "    <tr>\n",
              "      <th>61</th>\n",
              "      <td>size</td>\n",
              "      <td>3895</td>\n",
              "      <td>5036</td>\n",
              "      <td>3.0</td>\n",
              "      <td>0.011181</td>\n",
              "      <td>0.037795</td>\n",
              "      <td>0.233164</td>\n",
              "    </tr>\n",
              "    <tr>\n",
              "      <th>12</th>\n",
              "      <td>it's</td>\n",
              "      <td>3441</td>\n",
              "      <td>4615</td>\n",
              "      <td>4.0</td>\n",
              "      <td>0.010246</td>\n",
              "      <td>0.048041</td>\n",
              "      <td>0.205986</td>\n",
              "    </tr>\n",
              "    <tr>\n",
              "      <th>36</th>\n",
              "      <td>wear</td>\n",
              "      <td>3925</td>\n",
              "      <td>4544</td>\n",
              "      <td>5.0</td>\n",
              "      <td>0.010089</td>\n",
              "      <td>0.058130</td>\n",
              "      <td>0.234960</td>\n",
              "    </tr>\n",
              "    <tr>\n",
              "      <th>...</th>\n",
              "      <td>...</td>\n",
              "      <td>...</td>\n",
              "      <td>...</td>\n",
              "      <td>...</td>\n",
              "      <td>...</td>\n",
              "      <td>...</td>\n",
              "      <td>...</td>\n",
              "    </tr>\n",
              "    <tr>\n",
              "      <th>30025</th>\n",
              "      <td>retailer-wear</td>\n",
              "      <td>1</td>\n",
              "      <td>1</td>\n",
              "      <td>30026.0</td>\n",
              "      <td>0.000002</td>\n",
              "      <td>0.999991</td>\n",
              "      <td>0.000060</td>\n",
              "    </tr>\n",
              "    <tr>\n",
              "      <th>30028</th>\n",
              "      <td>missouri</td>\n",
              "      <td>1</td>\n",
              "      <td>1</td>\n",
              "      <td>30027.0</td>\n",
              "      <td>0.000002</td>\n",
              "      <td>0.999993</td>\n",
              "      <td>0.000060</td>\n",
              "    </tr>\n",
              "    <tr>\n",
              "      <th>30029</th>\n",
              "      <td>heats</td>\n",
              "      <td>1</td>\n",
              "      <td>1</td>\n",
              "      <td>30028.0</td>\n",
              "      <td>0.000002</td>\n",
              "      <td>0.999996</td>\n",
              "      <td>0.000060</td>\n",
              "    </tr>\n",
              "    <tr>\n",
              "      <th>30026</th>\n",
              "      <td>prone,</td>\n",
              "      <td>1</td>\n",
              "      <td>1</td>\n",
              "      <td>30029.0</td>\n",
              "      <td>0.000002</td>\n",
              "      <td>0.999998</td>\n",
              "      <td>0.000060</td>\n",
              "    </tr>\n",
              "    <tr>\n",
              "      <th>30027</th>\n",
              "      <td>thro</td>\n",
              "      <td>1</td>\n",
              "      <td>1</td>\n",
              "      <td>30030.0</td>\n",
              "      <td>0.000002</td>\n",
              "      <td>1.000000</td>\n",
              "      <td>0.000060</td>\n",
              "    </tr>\n",
              "  </tbody>\n",
              "</table>\n",
              "<p>30030 rows × 7 columns</p>\n",
              "</div>"
            ],
            "text/plain": [
              "                word  word_in_docs  ...  cul_percent  word_in_docs_percent\n",
              "13              love          5508  ...     0.014383              0.329722\n",
              "165            dress          3561  ...     0.026614              0.213170\n",
              "61              size          3895  ...     0.037795              0.233164\n",
              "12              it's          3441  ...     0.048041              0.205986\n",
              "36              wear          3925  ...     0.058130              0.234960\n",
              "...              ...           ...  ...          ...                   ...\n",
              "30025  retailer-wear             1  ...     0.999991              0.000060\n",
              "30028       missouri             1  ...     0.999993              0.000060\n",
              "30029          heats             1  ...     0.999996              0.000060\n",
              "30026         prone,             1  ...     0.999998              0.000060\n",
              "30027           thro             1  ...     1.000000              0.000060\n",
              "\n",
              "[30030 rows x 7 columns]"
            ]
          },
          "metadata": {
            "tags": []
          },
          "execution_count": 81
        }
      ]
    },
    {
      "cell_type": "code",
      "metadata": {
        "colab": {
          "base_uri": "https://localhost:8080/"
        },
        "id": "wRzgx4ndykdG",
        "outputId": "cbaec360-ce9d-4a2e-8255-5c4deeadd67c"
      },
      "source": [
        "for i in wc['word'][:10]:\n",
        "  print(i)"
      ],
      "execution_count": null,
      "outputs": [
        {
          "output_type": "stream",
          "text": [
            "love\n",
            "dress\n",
            "size\n",
            "it's\n",
            "wear\n",
            "like\n",
            "fit\n",
            "i'm\n",
            "great\n",
            "little\n"
          ],
          "name": "stdout"
        }
      ]
    },
    {
      "cell_type": "markdown",
      "metadata": {
        "id": "f0iyh_gFnxVV"
      },
      "source": [
        "### 6) Lemmatization 사용 효과를 분석해 봅니다.\n",
        "- 문항 6-1) Stemming한 뒤 상위 10개 단어를 입력하시오.\n",
        "- 문항 6-2) Lemmatization을 진행한 뒤 상위 10개 단어를 입력하시오."
      ]
    },
    {
      "cell_type": "code",
      "metadata": {
        "id": "YcFQ2PcMnxVV"
      },
      "source": [
        "from nltk.stem import PorterStemmer\n",
        "\n",
        "ps = PorterStemmer()\n",
        "\n",
        "tokens = []\n",
        "for doc in df['tokens']:\n",
        "    doc_tokens = []\n",
        "    for token in doc:\n",
        "        doc_tokens.append(ps.stem(token))\n",
        "    tokens.append(doc_tokens)\n",
        "\n",
        "df['stems'] = tokens"
      ],
      "execution_count": null,
      "outputs": []
    },
    {
      "cell_type": "code",
      "metadata": {
        "colab": {
          "base_uri": "https://localhost:8080/"
        },
        "id": "Q632KbVfzA1g",
        "outputId": "d3e7a126-0e82-4b05-ad6a-334393d3fc67"
      },
      "source": [
        "# STEMMING 후 상위 10개\n",
        "wc = word_count(df['stems'])\n",
        "\n",
        "for i in wc['word'][:10]:\n",
        "  print(i)"
      ],
      "execution_count": null,
      "outputs": [
        {
          "output_type": "stream",
          "text": [
            "love\n",
            "fit\n",
            "dress\n",
            "look\n",
            "size\n",
            "wear\n",
            "like\n",
            "it'\n",
            "i'm\n",
            "color\n"
          ],
          "name": "stdout"
        }
      ]
    },
    {
      "cell_type": "code",
      "metadata": {
        "id": "IkdnzF1WzOe4"
      },
      "source": [
        "def get_lemmas(text):\n",
        "\n",
        "    lemmas = []\n",
        "    \n",
        "    doc = nlp(text)\n",
        "\n",
        "    for token in doc: \n",
        "        if ((token.is_stop == False) and (token.is_punct == False)) and (token.pos_ != 'PRON'):\n",
        "            lemmas.append(token.lemma_)\n",
        "    \n",
        "    return lemmas\n",
        "\n",
        "df['lemmas'] = df['Review Text'].apply(get_lemmas)\n"
      ],
      "execution_count": null,
      "outputs": []
    },
    {
      "cell_type": "code",
      "metadata": {
        "colab": {
          "base_uri": "https://localhost:8080/"
        },
        "id": "E486v5VkzdHz",
        "outputId": "9bf2cb26-c40b-4562-ec08-eb3d82c82357"
      },
      "source": [
        "wc = word_count(df['lemmas'])\n",
        "for i in wc['word'][:10]:\n",
        "  print(i)"
      ],
      "execution_count": null,
      "outputs": [
        {
          "output_type": "stream",
          "text": [
            "dress\n",
            "fit\n",
            "love\n",
            "wear\n",
            "size\n",
            "look\n",
            "like\n",
            "color\n",
            "great\n",
            "small\n"
          ],
          "name": "stdout"
        }
      ]
    },
    {
      "cell_type": "markdown",
      "metadata": {
        "id": "fXK19yoPnxVV"
      },
      "source": [
        "### 도전과제🔥 \n",
        "- Spacy 기능을 추가적으로 한 가지 사용해 봅니다.\n",
        "- 다른 자연어 데이터셋을 이용해서 지금까지 배운 내용을 복습해 봅시다."
      ]
    },
    {
      "cell_type": "code",
      "metadata": {
        "id": "n37naUF9nxVV"
      },
      "source": [
        "### 이곳에서 과제를 진행해 주세요 ### "
      ],
      "execution_count": null,
      "outputs": []
    }
  ]
}